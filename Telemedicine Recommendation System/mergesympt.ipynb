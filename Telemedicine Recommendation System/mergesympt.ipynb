{
  "cells": [
    {
      "cell_type": "code",
      "execution_count": 3,
      "metadata": {
        "id": "7E3kUaj3rsFs"
      },
      "outputs": [],
      "source": [
        "import pandas as pd\n",
        "\n",
        "# Read the first CSV file with appropriate encoding\n",
        "df1 = pd.read_csv(\"/content/drive/MyDrive/dataset.csv\", encoding='latin1')\n",
        "\n",
        "# Read the second CSV file with appropriate encoding\n",
        "df2 = pd.read_csv(\"/content/drive/MyDrive/commonsympt.csv\", encoding='latin1')\n",
        "\n",
        "# Merge the two DataFrames based on row index\n",
        "merged_df = pd.merge(df1, df2, how='outer', left_index=True, right_index=True)\n",
        "\n",
        "# Drop duplicates based on columns Symptom_1 to Symptom_17\n",
        "merged_df = merged_df.drop_duplicates(subset=merged_df.columns[1:18])\n",
        "\n",
        "# Save the merged DataFrame to a new CSV file\n",
        "merged_df.to_csv(\"merged_file.csv\", index=False, encoding='latin1')"
      ]
    },
    {
      "cell_type": "code",
      "execution_count": 5,
      "metadata": {
        "id": "uUgsJM98u5-C"
      },
      "outputs": [],
      "source": [
        "# Read the merged CSV file\n",
        "merged_df = pd.read_csv(\"merged_file.csv\", encoding='latin1')\n",
        "\n",
        "# Extract the symptom columns\n",
        "symptom_cols = merged_df.columns[1:18]\n",
        "\n",
        "# Get all unique symptoms\n",
        "unique_symptoms = set()\n",
        "for col in symptom_cols:\n",
        "  unique_symptoms.update(merged_df[col].unique())\n",
        "\n",
        "# Create a DataFrame with unique symptoms\n",
        "symptoms_df = pd.DataFrame({'Symptom': list(unique_symptoms)})\n",
        "\n",
        "# Save the DataFrame to a new CSV file\n",
        "symptoms_df.to_csv(\"unique_symptoms.csv\", index=False, encoding='latin1')\n"
      ]
    },
    {
      "cell_type": "code",
      "execution_count": 9,
      "metadata": {
        "colab": {
          "base_uri": "https://localhost:8080/"
        },
        "id": "xk_7MtWSwmvT",
        "outputId": "7657a737-083b-4086-f535-0c502088c907"
      },
      "outputs": [
        {
          "name": "stderr",
          "output_type": "stream",
          "text": [
            "<ipython-input-9-f83058a218ed>:18: FutureWarning: The frame.append method is deprecated and will be removed from pandas in a future version. Use pandas.concat instead.\n",
            "  unique_symptoms_df = unique_symptoms_df.append(pd.DataFrame({'Symptom': list(missing_symptoms)}), ignore_index=True)\n"
          ]
        }
      ],
      "source": [
        "# Read the unique symptoms CSV file\n",
        "unique_symptoms_df = pd.read_csv(\"unique_symptoms.csv\", encoding='latin1')\n",
        "\n",
        "# Read the common symptoms CSV file\n",
        "common_symptoms_df = pd.read_csv(\"/content/drive/MyDrive/commonsympt.csv\", encoding='latin1')\n",
        "\n",
        "# Get the unique symptoms from the unique symptoms DataFrame\n",
        "unique_symptoms = set(unique_symptoms_df['Symptom'])\n",
        "\n",
        "# Get the common symptoms from the common symptoms DataFrame\n",
        "common_symptoms = set(common_symptoms_df['Symptoms'])\n",
        "\n",
        "# Find the symptoms that are in common_symptoms but not in unique_symptoms\n",
        "missing_symptoms = common_symptoms - unique_symptoms\n",
        "\n",
        "# Append the missing symptoms to the unique symptoms DataFrame\n",
        "if missing_symptoms:\n",
        "  unique_symptoms_df = unique_symptoms_df.append(pd.DataFrame({'Symptom': list(missing_symptoms)}), ignore_index=True)\n",
        "\n",
        "# Save the updated unique symptoms DataFrame to a new CSV file\n",
        "unique_symptoms_df.to_csv(\"updated_unique_symptoms.csv\", index=False, encoding='latin1')\n"
      ]
    }
  ],
  "metadata": {
    "colab": {
      "provenance": []
    },
    "kernelspec": {
      "display_name": "Python 3",
      "name": "python3"
    },
    "language_info": {
      "name": "python"
    }
  },
  "nbformat": 4,
  "nbformat_minor": 0
}
