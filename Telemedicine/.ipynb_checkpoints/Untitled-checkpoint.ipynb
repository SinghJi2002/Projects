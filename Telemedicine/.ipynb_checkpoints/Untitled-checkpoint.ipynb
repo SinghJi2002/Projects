{
 "cells": [
  {
   "cell_type": "markdown",
   "id": "cacb0796",
   "metadata": {},
   "source": [
    "# IoT Lab Project 1: TeleMedicine"
   ]
  },
  {
   "cell_type": "code",
   "execution_count": 43,
   "id": "69b31089",
   "metadata": {},
   "outputs": [],
   "source": [
    "dataframe=pd.read_excel(\"TeleMedicine.xlsx\")"
   ]
  },
  {
   "cell_type": "code",
   "execution_count": 44,
   "id": "e0cec131",
   "metadata": {},
   "outputs": [
    {
     "data": {
      "text/html": [
       "<div>\n",
       "<style scoped>\n",
       "    .dataframe tbody tr th:only-of-type {\n",
       "        vertical-align: middle;\n",
       "    }\n",
       "\n",
       "    .dataframe tbody tr th {\n",
       "        vertical-align: top;\n",
       "    }\n",
       "\n",
       "    .dataframe thead th {\n",
       "        text-align: right;\n",
       "    }\n",
       "</style>\n",
       "<table border=\"1\" class=\"dataframe\">\n",
       "  <thead>\n",
       "    <tr style=\"text-align: right;\">\n",
       "      <th></th>\n",
       "      <th>PatientID</th>\n",
       "      <th>Age</th>\n",
       "      <th>Gender</th>\n",
       "      <th>Medical Condition</th>\n",
       "      <th>Other Demographics</th>\n",
       "      <th>Insurance Type</th>\n",
       "      <th>Tech Device</th>\n",
       "      <th>Tech Access</th>\n",
       "    </tr>\n",
       "  </thead>\n",
       "  <tbody>\n",
       "    <tr>\n",
       "      <th>0</th>\n",
       "      <td>1</td>\n",
       "      <td>39</td>\n",
       "      <td>M</td>\n",
       "      <td>Chronic Arthritis</td>\n",
       "      <td>Rural</td>\n",
       "      <td>Uninsured</td>\n",
       "      <td>Smartphone</td>\n",
       "      <td>Limited Internet</td>\n",
       "    </tr>\n",
       "    <tr>\n",
       "      <th>1</th>\n",
       "      <td>2</td>\n",
       "      <td>75</td>\n",
       "      <td>F</td>\n",
       "      <td>Asthma</td>\n",
       "      <td>Suburban</td>\n",
       "      <td>Public Insurance</td>\n",
       "      <td>Tablet</td>\n",
       "      <td>Decent Internet</td>\n",
       "    </tr>\n",
       "    <tr>\n",
       "      <th>2</th>\n",
       "      <td>3</td>\n",
       "      <td>12</td>\n",
       "      <td>M</td>\n",
       "      <td>High Cholesterol</td>\n",
       "      <td>Urban</td>\n",
       "      <td>Private Insurance</td>\n",
       "      <td>Laptop</td>\n",
       "      <td>Good Internet</td>\n",
       "    </tr>\n",
       "    <tr>\n",
       "      <th>3</th>\n",
       "      <td>4</td>\n",
       "      <td>53</td>\n",
       "      <td>F</td>\n",
       "      <td>Chronic Skin Condition</td>\n",
       "      <td>Rural</td>\n",
       "      <td>Medicare</td>\n",
       "      <td>Basic Phone</td>\n",
       "      <td>No Internet</td>\n",
       "    </tr>\n",
       "    <tr>\n",
       "      <th>4</th>\n",
       "      <td>5</td>\n",
       "      <td>26</td>\n",
       "      <td>M</td>\n",
       "      <td>Depression</td>\n",
       "      <td>Suburban</td>\n",
       "      <td>Uninsured</td>\n",
       "      <td>Smartphone</td>\n",
       "      <td>Good Internet</td>\n",
       "    </tr>\n",
       "  </tbody>\n",
       "</table>\n",
       "</div>"
      ],
      "text/plain": [
       "   PatientID  Age Gender       Medical Condition Other Demographics  \\\n",
       "0          1   39      M       Chronic Arthritis              Rural   \n",
       "1          2   75      F                  Asthma           Suburban   \n",
       "2          3   12      M        High Cholesterol              Urban   \n",
       "3          4   53      F  Chronic Skin Condition              Rural   \n",
       "4          5   26      M              Depression           Suburban   \n",
       "\n",
       "      Insurance Type  Tech Device       Tech Access  \n",
       "0          Uninsured   Smartphone  Limited Internet  \n",
       "1   Public Insurance       Tablet   Decent Internet  \n",
       "2  Private Insurance       Laptop     Good Internet  \n",
       "3           Medicare  Basic Phone       No Internet  \n",
       "4          Uninsured   Smartphone     Good Internet  "
      ]
     },
     "execution_count": 44,
     "metadata": {},
     "output_type": "execute_result"
    }
   ],
   "source": [
    "dataframe.head()"
   ]
  },
  {
   "cell_type": "code",
   "execution_count": 45,
   "id": "ce80c561",
   "metadata": {},
   "outputs": [
    {
     "name": "stdout",
     "output_type": "stream",
     "text": [
      "Enter Prompt\n",
      "My Patient ID is 1\n"
     ]
    }
   ],
   "source": [
    "print('Enter Prompt')\n",
    "a=input()"
   ]
  },
  {
   "cell_type": "code",
   "execution_count": 36,
   "id": "97d6a2a2",
   "metadata": {},
   "outputs": [],
   "source": [
    "dataframe['Age']=dataframe[\"Age\"].astype(str)"
   ]
  },
  {
   "cell_type": "code",
   "execution_count": 38,
   "id": "09401bc4",
   "metadata": {},
   "outputs": [],
   "source": [
    "dataframe['PatientID']=dataframe[\"PatientID\"].astype(str)"
   ]
  },
  {
   "cell_type": "code",
   "execution_count": 39,
   "id": "5fc23524",
   "metadata": {},
   "outputs": [],
   "source": [
    "dataframe=dataframe.set_index(\"PatientID\")"
   ]
  },
  {
   "cell_type": "code",
   "execution_count": 41,
   "id": "89b35a20",
   "metadata": {},
   "outputs": [
    {
     "data": {
      "text/html": [
       "<div>\n",
       "<style scoped>\n",
       "    .dataframe tbody tr th:only-of-type {\n",
       "        vertical-align: middle;\n",
       "    }\n",
       "\n",
       "    .dataframe tbody tr th {\n",
       "        vertical-align: top;\n",
       "    }\n",
       "\n",
       "    .dataframe thead th {\n",
       "        text-align: right;\n",
       "    }\n",
       "</style>\n",
       "<table border=\"1\" class=\"dataframe\">\n",
       "  <thead>\n",
       "    <tr style=\"text-align: right;\">\n",
       "      <th></th>\n",
       "      <th>Age</th>\n",
       "      <th>Gender</th>\n",
       "      <th>Medical Condition</th>\n",
       "      <th>Other Demographics</th>\n",
       "      <th>Insurance Type</th>\n",
       "      <th>Tech Device</th>\n",
       "      <th>Tech Access</th>\n",
       "    </tr>\n",
       "    <tr>\n",
       "      <th>PatientID</th>\n",
       "      <th></th>\n",
       "      <th></th>\n",
       "      <th></th>\n",
       "      <th></th>\n",
       "      <th></th>\n",
       "      <th></th>\n",
       "      <th></th>\n",
       "    </tr>\n",
       "  </thead>\n",
       "  <tbody>\n",
       "    <tr>\n",
       "      <th>1</th>\n",
       "      <td>39</td>\n",
       "      <td>M</td>\n",
       "      <td>Chronic Arthritis</td>\n",
       "      <td>Rural</td>\n",
       "      <td>Uninsured</td>\n",
       "      <td>Smartphone</td>\n",
       "      <td>Limited Internet</td>\n",
       "    </tr>\n",
       "    <tr>\n",
       "      <th>2</th>\n",
       "      <td>75</td>\n",
       "      <td>F</td>\n",
       "      <td>Asthma</td>\n",
       "      <td>Suburban</td>\n",
       "      <td>Public Insurance</td>\n",
       "      <td>Tablet</td>\n",
       "      <td>Decent Internet</td>\n",
       "    </tr>\n",
       "    <tr>\n",
       "      <th>3</th>\n",
       "      <td>12</td>\n",
       "      <td>M</td>\n",
       "      <td>High Cholesterol</td>\n",
       "      <td>Urban</td>\n",
       "      <td>Private Insurance</td>\n",
       "      <td>Laptop</td>\n",
       "      <td>Good Internet</td>\n",
       "    </tr>\n",
       "    <tr>\n",
       "      <th>4</th>\n",
       "      <td>53</td>\n",
       "      <td>F</td>\n",
       "      <td>Chronic Skin Condition</td>\n",
       "      <td>Rural</td>\n",
       "      <td>Medicare</td>\n",
       "      <td>Basic Phone</td>\n",
       "      <td>No Internet</td>\n",
       "    </tr>\n",
       "    <tr>\n",
       "      <th>5</th>\n",
       "      <td>26</td>\n",
       "      <td>M</td>\n",
       "      <td>Depression</td>\n",
       "      <td>Suburban</td>\n",
       "      <td>Uninsured</td>\n",
       "      <td>Smartphone</td>\n",
       "      <td>Good Internet</td>\n",
       "    </tr>\n",
       "  </tbody>\n",
       "</table>\n",
       "</div>"
      ],
      "text/plain": [
       "          Age Gender       Medical Condition Other Demographics  \\\n",
       "PatientID                                                         \n",
       "1          39      M       Chronic Arthritis              Rural   \n",
       "2          75      F                  Asthma           Suburban   \n",
       "3          12      M        High Cholesterol              Urban   \n",
       "4          53      F  Chronic Skin Condition              Rural   \n",
       "5          26      M              Depression           Suburban   \n",
       "\n",
       "              Insurance Type  Tech Device       Tech Access  \n",
       "PatientID                                                    \n",
       "1                  Uninsured   Smartphone  Limited Internet  \n",
       "2           Public Insurance       Tablet   Decent Internet  \n",
       "3          Private Insurance       Laptop     Good Internet  \n",
       "4                   Medicare  Basic Phone       No Internet  \n",
       "5                  Uninsured   Smartphone     Good Internet  "
      ]
     },
     "execution_count": 41,
     "metadata": {},
     "output_type": "execute_result"
    }
   ],
   "source": [
    "dataframe.head()"
   ]
  },
  {
   "cell_type": "code",
   "execution_count": 46,
   "id": "ac54a221",
   "metadata": {},
   "outputs": [],
   "source": [
    "word=a.split(' ')"
   ]
  },
  {
   "cell_type": "code",
   "execution_count": 47,
   "id": "c419b455",
   "metadata": {},
   "outputs": [
    {
     "data": {
      "text/plain": [
       "['My', 'Patient', 'ID', 'is', '1']"
      ]
     },
     "execution_count": 47,
     "metadata": {},
     "output_type": "execute_result"
    }
   ],
   "source": [
    "word"
   ]
  },
  {
   "cell_type": "code",
   "execution_count": 30,
   "id": "97956c96",
   "metadata": {},
   "outputs": [
    {
     "data": {
      "text/plain": [
       "100"
      ]
     },
     "execution_count": 30,
     "metadata": {},
     "output_type": "execute_result"
    }
   ],
   "source": [
    "len(dataframe)"
   ]
  },
  {
   "cell_type": "code",
   "execution_count": null,
   "id": "068796e2",
   "metadata": {},
   "outputs": [],
   "source": [
    "for i in word:\n",
    "    for j in dataframe.columns:\n",
    "        for k in range(0,len(dataframe),1):\n",
    "            if(i.upper()==dataframe[j][i].upper()):\n",
    "                print()"
   ]
  }
 ],
 "metadata": {
  "kernelspec": {
   "display_name": "Python 3 (ipykernel)",
   "language": "python",
   "name": "python3"
  },
  "language_info": {
   "codemirror_mode": {
    "name": "ipython",
    "version": 3
   },
   "file_extension": ".py",
   "mimetype": "text/x-python",
   "name": "python",
   "nbconvert_exporter": "python",
   "pygments_lexer": "ipython3",
   "version": "3.9.13"
  }
 },
 "nbformat": 4,
 "nbformat_minor": 5
}
