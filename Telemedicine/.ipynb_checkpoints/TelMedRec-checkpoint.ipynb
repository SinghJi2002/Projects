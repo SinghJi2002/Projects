{
 "cells": [
  {
   "cell_type": "markdown",
   "id": "cacb0796",
   "metadata": {},
   "source": [
    "# IoT Lab Project 1: TeleMedicine"
   ]
  },
  {
   "cell_type": "code",
   "execution_count": 1,
   "id": "c5d6e3a2",
   "metadata": {},
   "outputs": [],
   "source": [
    "import pandas as pd\n",
    "import numpy as np"
   ]
  },
  {
   "cell_type": "code",
   "execution_count": 2,
   "id": "69b31089",
   "metadata": {},
   "outputs": [],
   "source": [
    "#Loading Dataset.\n",
    "dataframe=pd.read_excel(\"TeleMedicine.xlsx\")\n",
    "#Converting integer type columns to string for searching\n",
    "dataframe['Age']=dataframe[\"Age\"].astype(str)\n",
    "dataframe['PatientID']=dataframe[\"PatientID\"].astype(str)\n",
    "dataframe=dataframe.set_index(\"PatientID\")\n",
    "#Converting each element to uppercase for convienence in searching\n",
    "dataframe[\"Medical Condition\"] = dataframe[\"Medical Condition\"].apply(lambda x: x.upper())\n",
    "dataframe[\"Other Demographics\"] = dataframe[\"Other Demographics\"].apply(lambda x: x.upper())\n",
    "dataframe[\"Insurance Type\"] = dataframe[\"Insurance Type\"].apply(lambda x: x.upper())\n",
    "dataframe[\"Tech Device\"] = dataframe[\"Tech Device\"].apply(lambda x: x.upper())\n",
    "dataframe[\"Tech Access\"] = dataframe[\"Tech Access\"].apply(lambda x: x.upper())"
   ]
  },
  {
   "cell_type": "code",
   "execution_count": 3,
   "id": "e4f2d7e9",
   "metadata": {},
   "outputs": [
    {
     "name": "stdout",
     "output_type": "stream",
     "text": [
      "Enter Prompt\n",
      "I have asthma\n"
     ]
    }
   ],
   "source": [
    "#Taking user input\n",
    "print('Enter Prompt')\n",
    "a=input()"
   ]
  },
  {
   "cell_type": "code",
   "execution_count": 4,
   "id": "e0cec131",
   "metadata": {},
   "outputs": [
    {
     "data": {
      "text/html": [
       "<div>\n",
       "<style scoped>\n",
       "    .dataframe tbody tr th:only-of-type {\n",
       "        vertical-align: middle;\n",
       "    }\n",
       "\n",
       "    .dataframe tbody tr th {\n",
       "        vertical-align: top;\n",
       "    }\n",
       "\n",
       "    .dataframe thead th {\n",
       "        text-align: right;\n",
       "    }\n",
       "</style>\n",
       "<table border=\"1\" class=\"dataframe\">\n",
       "  <thead>\n",
       "    <tr style=\"text-align: right;\">\n",
       "      <th></th>\n",
       "      <th>Age</th>\n",
       "      <th>Gender</th>\n",
       "      <th>Medical Condition</th>\n",
       "      <th>Other Demographics</th>\n",
       "      <th>Insurance Type</th>\n",
       "      <th>Tech Device</th>\n",
       "      <th>Tech Access</th>\n",
       "    </tr>\n",
       "    <tr>\n",
       "      <th>PatientID</th>\n",
       "      <th></th>\n",
       "      <th></th>\n",
       "      <th></th>\n",
       "      <th></th>\n",
       "      <th></th>\n",
       "      <th></th>\n",
       "      <th></th>\n",
       "    </tr>\n",
       "  </thead>\n",
       "  <tbody>\n",
       "    <tr>\n",
       "      <th>1</th>\n",
       "      <td>39</td>\n",
       "      <td>M</td>\n",
       "      <td>CHRONIC ARTHRITIS</td>\n",
       "      <td>RURAL</td>\n",
       "      <td>UNINSURED</td>\n",
       "      <td>SMARTPHONE</td>\n",
       "      <td>LIMITED INTERNET</td>\n",
       "    </tr>\n",
       "    <tr>\n",
       "      <th>2</th>\n",
       "      <td>75</td>\n",
       "      <td>F</td>\n",
       "      <td>ASTHMA</td>\n",
       "      <td>SUBURBAN</td>\n",
       "      <td>PUBLIC INSURANCE</td>\n",
       "      <td>TABLET</td>\n",
       "      <td>DECENT INTERNET</td>\n",
       "    </tr>\n",
       "    <tr>\n",
       "      <th>3</th>\n",
       "      <td>12</td>\n",
       "      <td>M</td>\n",
       "      <td>HIGH CHOLESTEROL</td>\n",
       "      <td>URBAN</td>\n",
       "      <td>PRIVATE INSURANCE</td>\n",
       "      <td>LAPTOP</td>\n",
       "      <td>GOOD INTERNET</td>\n",
       "    </tr>\n",
       "    <tr>\n",
       "      <th>4</th>\n",
       "      <td>53</td>\n",
       "      <td>F</td>\n",
       "      <td>CHRONIC SKIN CONDITION</td>\n",
       "      <td>RURAL</td>\n",
       "      <td>MEDICARE</td>\n",
       "      <td>BASIC PHONE</td>\n",
       "      <td>NO INTERNET</td>\n",
       "    </tr>\n",
       "    <tr>\n",
       "      <th>5</th>\n",
       "      <td>26</td>\n",
       "      <td>M</td>\n",
       "      <td>DEPRESSION</td>\n",
       "      <td>SUBURBAN</td>\n",
       "      <td>UNINSURED</td>\n",
       "      <td>SMARTPHONE</td>\n",
       "      <td>GOOD INTERNET</td>\n",
       "    </tr>\n",
       "  </tbody>\n",
       "</table>\n",
       "</div>"
      ],
      "text/plain": [
       "          Age Gender       Medical Condition Other Demographics  \\\n",
       "PatientID                                                         \n",
       "1          39      M       CHRONIC ARTHRITIS              RURAL   \n",
       "2          75      F                  ASTHMA           SUBURBAN   \n",
       "3          12      M        HIGH CHOLESTEROL              URBAN   \n",
       "4          53      F  CHRONIC SKIN CONDITION              RURAL   \n",
       "5          26      M              DEPRESSION           SUBURBAN   \n",
       "\n",
       "              Insurance Type  Tech Device       Tech Access  \n",
       "PatientID                                                    \n",
       "1                  UNINSURED   SMARTPHONE  LIMITED INTERNET  \n",
       "2           PUBLIC INSURANCE       TABLET   DECENT INTERNET  \n",
       "3          PRIVATE INSURANCE       LAPTOP     GOOD INTERNET  \n",
       "4                   MEDICARE  BASIC PHONE       NO INTERNET  \n",
       "5                  UNINSURED   SMARTPHONE     GOOD INTERNET  "
      ]
     },
     "execution_count": 4,
     "metadata": {},
     "output_type": "execute_result"
    }
   ],
   "source": [
    "dataframe.head()"
   ]
  },
  {
   "cell_type": "code",
   "execution_count": 5,
   "id": "ce80c561",
   "metadata": {},
   "outputs": [],
   "source": [
    "#Processing User Input\n",
    "word=a.split(' ')\n",
    "for i in range(0,len(word),1):\n",
    "    word[i]=word[i].upper()"
   ]
  },
  {
   "cell_type": "code",
   "execution_count": 6,
   "id": "068796e2",
   "metadata": {},
   "outputs": [
    {
     "name": "stdout",
     "output_type": "stream",
     "text": [
      "Age                                 75\n",
      "Gender                               F\n",
      "Medical Condition               ASTHMA\n",
      "Other Demographics            SUBURBAN\n",
      "Insurance Type        PUBLIC INSURANCE\n",
      "Tech Device                     TABLET\n",
      "Tech Access            DECENT INTERNET\n",
      "Name: 2, dtype: object\n",
      "Age                                  15\n",
      "Gender                                F\n",
      "Medical Condition                ASTHMA\n",
      "Other Demographics                RURAL\n",
      "Insurance Type         PUBLIC INSURANCE\n",
      "Tech Device                  SMARTPHONE\n",
      "Tech Access           RELIABLE INTERNET\n",
      "Name: 14, dtype: object\n",
      "Age                              16\n",
      "Gender                            F\n",
      "Medical Condition            ASTHMA\n",
      "Other Demographics            URBAN\n",
      "Insurance Type             MEDICARE\n",
      "Tech Device             BASIC PHONE\n",
      "Tech Access           GOOD INTERNET\n",
      "Name: 24, dtype: object\n",
      "Age                                  17\n",
      "Gender                                F\n",
      "Medical Condition                ASTHMA\n",
      "Other Demographics             SUBURBAN\n",
      "Insurance Type         PUBLIC INSURANCE\n",
      "Tech Device                      LAPTOP\n",
      "Tech Access           RELIABLE INTERNET\n",
      "Name: 34, dtype: object\n",
      "Age                              18\n",
      "Gender                            F\n",
      "Medical Condition            ASTHMA\n",
      "Other Demographics            RURAL\n",
      "Insurance Type             MEDICARE\n",
      "Tech Device                  TABLET\n",
      "Tech Access           GOOD INTERNET\n",
      "Name: 44, dtype: object\n",
      "Age                              16\n",
      "Gender                            M\n",
      "Medical Condition            ASTHMA\n",
      "Other Demographics         SUBURBAN\n",
      "Insurance Type            UNINSURED\n",
      "Tech Device                  LAPTOP\n",
      "Tech Access           GOOD INTERNET\n",
      "Name: 52, dtype: object\n",
      "Age                                11\n",
      "Gender                              M\n",
      "Medical Condition              ASTHMA\n",
      "Other Demographics           SUBURBAN\n",
      "Insurance Type               MEDICARE\n",
      "Tech Device                    TABLET\n",
      "Tech Access           DECENT INTERNET\n",
      "Name: 80, dtype: object\n",
      "Age                                  70\n",
      "Gender                                F\n",
      "Medical Condition                ASTHMA\n",
      "Other Demographics                URBAN\n",
      "Insurance Type        PRIVATE INSURANCE\n",
      "Tech Device                 BASIC PHONE\n",
      "Tech Access                 NO INTERNET\n",
      "Name: 91, dtype: object\n"
     ]
    }
   ],
   "source": [
    "#Main search operation\n",
    "for i in word:\n",
    "    for j in range(0,len(dataframe.columns),1):\n",
    "        for k in range(0,len(dataframe),1):\n",
    "            if(i==dataframe.iloc[:,j][k]):\n",
    "                print(dataframe.iloc[k])"
   ]
  }
 ],
 "metadata": {
  "kernelspec": {
   "display_name": "Python 3 (ipykernel)",
   "language": "python",
   "name": "python3"
  },
  "language_info": {
   "codemirror_mode": {
    "name": "ipython",
    "version": 3
   },
   "file_extension": ".py",
   "mimetype": "text/x-python",
   "name": "python",
   "nbconvert_exporter": "python",
   "pygments_lexer": "ipython3",
   "version": "3.9.13"
  }
 },
 "nbformat": 4,
 "nbformat_minor": 5
}
